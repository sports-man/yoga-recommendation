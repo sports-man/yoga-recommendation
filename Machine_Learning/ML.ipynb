{
  "nbformat": 4,
  "nbformat_minor": 0,
  "metadata": {
    "colab": {
      "name": "ML.ipynb",
      "provenance": []
    },
    "kernelspec": {
      "display_name": "Python 3",
      "name": "python3"
    },
    "language_info": {
      "name": "python"
    }
  },
  "cells": [
    {
      "cell_type": "code",
      "metadata": {
        "id": "D4fu01wEmiCN"
      },
      "source": [
        "# data = '/content/drive/MyDrive/yrs/final_asan1.csv'\n",
        "# data = 'final_asan1.csv'\n",
        "data = '/content/Asans - Sheet1 (1).csv'"
      ],
      "execution_count": null,
      "outputs": []
    },
    {
      "cell_type": "code",
      "metadata": {
        "id": "-1TeNmLvn03Q"
      },
      "source": [
        "import re\n",
        "from textblob import TextBlob\n",
        "import nltk\n",
        "from nltk.stem import WordNetLemmatizer\n",
        "from nltk.corpus import stopwords\n",
        "from gensim.parsing.preprocessing import remove_stopwords"
      ],
      "execution_count": null,
      "outputs": []
    },
    {
      "cell_type": "code",
      "metadata": {
        "id": "ytW04DE2-b0I"
      },
      "source": [
        "benefits = []\n",
        "asan = []"
      ],
      "execution_count": null,
      "outputs": []
    },
    {
      "cell_type": "code",
      "metadata": {
        "id": "fI-qAj0k7lDj"
      },
      "source": [
        "import csv\n",
        "\n",
        "with open(data,'r') as file:\n",
        "  reader = csv.reader(file)\n",
        "  for row in reader:\n",
        "    benefits.append(row[3])\n",
        "    asan.append(row[1])"
      ],
      "execution_count": null,
      "outputs": []
    },
    {
      "cell_type": "code",
      "metadata": {
        "colab": {
          "base_uri": "https://localhost:8080/",
          "height": 35
        },
        "id": "Dm34lJHZ-XSz",
        "outputId": "40bd0439-24cb-4b83-ba58-ee731237cc96"
      },
      "source": [
        "benefits[1]\n",
        "asan[1]"
      ],
      "execution_count": null,
      "outputs": [
        {
          "output_type": "execute_result",
          "data": {
            "application/vnd.google.colaboratory.intrinsic+json": {
              "type": "string"
            },
            "text/plain": [
              "'Padanguli Naman'"
            ]
          },
          "metadata": {
            "tags": []
          },
          "execution_count": 5
        }
      ]
    },
    {
      "cell_type": "code",
      "metadata": {
        "id": "1e00iuAJ_cDb"
      },
      "source": [
        "input_1=[]\n",
        "output=[]\n",
        "data = []"
      ],
      "execution_count": null,
      "outputs": []
    },
    {
      "cell_type": "code",
      "metadata": {
        "id": "q0kpleeq-A6e"
      },
      "source": [
        "for i in range (len(benefits)):\n",
        "  line = benefits[i]\n",
        "  line = line.lower()\n",
        "  line = re.sub(r'[^A-Za-z\\n]+', ' ', line)\n",
        "  line = remove_stopwords(line)\n",
        "  input_1.append(line)\n",
        "  data.append(line)\n",
        "  line = asan[i]\n",
        "  line = re.sub(r'[^A-Za-z0-9 ]+', ' ', line)\n",
        "  line = line.replace(\" \",\"\")\n",
        "  line = line.replace(\"(\",\"\")\n",
        "  line = line.replace(\")\",\"\")\n",
        "  line = line.replace(\".\",\"\")\n",
        "  line = line.replace(\"/\",\"\")\n",
        "  output.append(line)"
      ],
      "execution_count": null,
      "outputs": []
    },
    {
      "cell_type": "code",
      "metadata": {
        "id": "8iXxslfC_qxy"
      },
      "source": [
        "from keras.preprocessing.text import Tokenizer\n",
        "from tensorflow.keras.preprocessing.sequence import pad_sequences\n",
        "import tensorflow as tf\n",
        "from keras.utils import np_utils\n",
        "from tensorflow import keras\n",
        "import keras.backend as K\n",
        "import numpy as np\n",
        "\n",
        "oov_token = \"<OOV>\"\n",
        "embed_size = 20"
      ],
      "execution_count": null,
      "outputs": []
    },
    {
      "cell_type": "code",
      "metadata": {
        "colab": {
          "base_uri": "https://localhost:8080/"
        },
        "id": "VbALHZAuBxrB",
        "outputId": "73077d1d-72cc-4b60-d7ed-f9b0c11233a8"
      },
      "source": [
        "tokenizer = Tokenizer(oov_token=oov_token)\n",
        "tokenizer.fit_on_texts(data)\n",
        "word_index = tokenizer.word_index\n",
        "sequence = tokenizer.texts_to_sequences(data)\n",
        "\n",
        "print(len(word_index))"
      ],
      "execution_count": null,
      "outputs": [
        {
          "output_type": "stream",
          "text": [
            "1424\n"
          ],
          "name": "stdout"
        }
      ]
    },
    {
      "cell_type": "code",
      "metadata": {
        "id": "rlXufT7iB7Kk"
      },
      "source": [
        "vocab_size = len(word_index)"
      ],
      "execution_count": null,
      "outputs": []
    },
    {
      "cell_type": "code",
      "metadata": {
        "id": "X1ZCWSdtCCCY"
      },
      "source": [
        "index_to_word_map = {}\n",
        "word_to_index_map = {}\n",
        "for word,index in word_index.items():\n",
        "  index_to_word_map[index] = word\n",
        "  word_to_index_map[word]=index"
      ],
      "execution_count": null,
      "outputs": []
    },
    {
      "cell_type": "code",
      "metadata": {
        "colab": {
          "base_uri": "https://localhost:8080/"
        },
        "id": "kMP2S4dwCyz3",
        "outputId": "ac61b893-7874-47b3-de4b-02e1d3bc12bd"
      },
      "source": [
        "tokenizer2 = Tokenizer(oov_token=oov_token)\n",
        "tokenizer2.fit_on_texts(output)\n",
        "word_index2 = tokenizer2.word_index\n",
        "sequence2 = tokenizer2.texts_to_sequences(output)\n",
        "\n",
        "print(len(word_index2))"
      ],
      "execution_count": null,
      "outputs": [
        {
          "output_type": "stream",
          "text": [
            "228\n"
          ],
          "name": "stdout"
        }
      ]
    },
    {
      "cell_type": "code",
      "metadata": {
        "id": "oF3dhAplGvsm"
      },
      "source": [
        "vocab_size2 = len(word_index2)"
      ],
      "execution_count": null,
      "outputs": []
    },
    {
      "cell_type": "code",
      "metadata": {
        "id": "5BGkK3o2G3Y9"
      },
      "source": [
        "index_to_word_map2 = {}\n",
        "for word,index in word_index2.items():\n",
        "  index_to_word_map2[index] = word"
      ],
      "execution_count": null,
      "outputs": []
    },
    {
      "cell_type": "code",
      "metadata": {
        "id": "HiypTvIVHyAZ"
      },
      "source": [
        "benefits = []\n",
        "asan = []"
      ],
      "execution_count": null,
      "outputs": []
    },
    {
      "cell_type": "code",
      "metadata": {
        "id": "C1dJy5XEI4vP"
      },
      "source": [
        "for i in range (1,len(sequence)):\n",
        "  benefits.append(sequence[i])\n",
        "for i in range (1,len(sequence2)):\n",
        "  asan.append(sequence2[i])"
      ],
      "execution_count": null,
      "outputs": []
    },
    {
      "cell_type": "code",
      "metadata": {
        "colab": {
          "base_uri": "https://localhost:8080/"
        },
        "id": "4CA3RVgH1qfx",
        "outputId": "8453885a-2a27-4d47-869f-a4903d42776c"
      },
      "source": [
        "asan = np.asarray(asan)\n",
        "np.shape(asan)"
      ],
      "execution_count": null,
      "outputs": [
        {
          "output_type": "execute_result",
          "data": {
            "text/plain": [
              "(226, 1)"
            ]
          },
          "metadata": {
            "tags": []
          },
          "execution_count": 78
        }
      ]
    },
    {
      "cell_type": "code",
      "metadata": {
        "id": "03ZFUhAp1VmB"
      },
      "source": [
        "y = asan - 3\n",
        "y = tf.keras.utils.to_categorical(y,226)"
      ],
      "execution_count": null,
      "outputs": []
    },
    {
      "cell_type": "code",
      "metadata": {
        "id": "3X-coLdgRAvL"
      },
      "source": [
        "benefits = pad_sequences(benefits,50,padding='post',truncating='pre')"
      ],
      "execution_count": null,
      "outputs": []
    },
    {
      "cell_type": "code",
      "metadata": {
        "colab": {
          "base_uri": "https://localhost:8080/"
        },
        "id": "AKwgVlCxu42W",
        "outputId": "4bf68773-1cfc-43a2-aaa9-630a72840a7b"
      },
      "source": [
        "benefits = np.array(benefits)\n",
        "np.shape(benefits)"
      ],
      "execution_count": null,
      "outputs": [
        {
          "output_type": "execute_result",
          "data": {
            "text/plain": [
              "(226, 50)"
            ]
          },
          "metadata": {
            "tags": []
          },
          "execution_count": 85
        }
      ]
    },
    {
      "cell_type": "code",
      "metadata": {
        "id": "XbyRxx_OVQEn"
      },
      "source": [
        "fields = ['Index','Word']\n",
        "row = []\n",
        "rows= []\n",
        "for i in range(1,1425):\n",
        "  row.append(i)\n",
        "  row.append(index_to_word_map[i])\n",
        "  rows.append(row)\n",
        "  row=[]"
      ],
      "execution_count": null,
      "outputs": []
    },
    {
      "cell_type": "code",
      "metadata": {
        "id": "p6jywwhDc4fV"
      },
      "source": [
        "with open('/content/map.csv', 'w') as csvfile: \n",
        "    # creating a csv writer object \n",
        "    csvwriter = csv.writer(csvfile) \n",
        "        \n",
        "    # writing the fields \n",
        "    csvwriter.writerow(fields) \n",
        "        \n",
        "    # writing the data rows \n",
        "    csvwriter.writerows(rows)"
      ],
      "execution_count": null,
      "outputs": []
    },
    {
      "cell_type": "code",
      "metadata": {
        "colab": {
          "base_uri": "https://localhost:8080/"
        },
        "id": "Ziv8s9YI4Lxn",
        "outputId": "b3e479b2-3508-4431-a4ce-ea49f00abecf"
      },
      "source": [
        "import keras.backend as K\n",
        "from keras.models import Sequential\n",
        "from keras.layers import Dense, Embedding, Lambda, Flatten, Reshape\n",
        "import tensorflow as tf\n",
        "\n",
        "model = Sequential()\n",
        "model.add(Embedding(vocab_size+1,embed_size,input_length=50))\n",
        "model.add(Lambda(lambda x: K.mean(x, axis=1), output_shape=(embed_size,)))\n",
        "model.add(Dense(vocab_size2-2, activation='softmax'))\n",
        "model.compile(loss=tf.keras.losses.CategoricalCrossentropy(), optimizer='adam',metrics=['accuracy'])\n",
        "print(model.summary())"
      ],
      "execution_count": null,
      "outputs": [
        {
          "output_type": "stream",
          "text": [
            "Model: \"sequential_1\"\n",
            "_________________________________________________________________\n",
            "Layer (type)                 Output Shape              Param #   \n",
            "=================================================================\n",
            "embedding_1 (Embedding)      (None, 50, 20)            28500     \n",
            "_________________________________________________________________\n",
            "lambda_1 (Lambda)            (None, 20)                0         \n",
            "_________________________________________________________________\n",
            "dense_1 (Dense)              (None, 226)               4746      \n",
            "=================================================================\n",
            "Total params: 33,246\n",
            "Trainable params: 33,246\n",
            "Non-trainable params: 0\n",
            "_________________________________________________________________\n",
            "None\n"
          ],
          "name": "stdout"
        }
      ]
    },
    {
      "cell_type": "code",
      "metadata": {
        "id": "Ui59sykMxqC-"
      },
      "source": [
        "history = model.fit(benefits,y,epochs=1000,batch_size=32)"
      ],
      "execution_count": null,
      "outputs": []
    },
    {
      "cell_type": "code",
      "metadata": {
        "colab": {
          "base_uri": "https://localhost:8080/",
          "height": 295
        },
        "id": "y6oSEN2Q2aGZ",
        "outputId": "da8b72c4-bc50-4bdc-bdf1-06f8842cddd9"
      },
      "source": [
        "import matplotlib.pyplot as plt\n",
        "loss_train = history.history['loss']\n",
        "plt.plot(loss_train, 'g', label='Training loss')\n",
        "plt.title('Training loss')\n",
        "plt.xlabel('Epochs')\n",
        "plt.ylabel('Loss')\n",
        "plt.legend()\n",
        "plt.show()"
      ],
      "execution_count": null,
      "outputs": [
        {
          "output_type": "display_data",
          "data": {
            "image/png": "[encoded data removed]",
            "text/plain": [
              "<Figure size 432x288 with 1 Axes>"
            ]
          },
          "metadata": {
            "tags": [],
            "needs_background": "light"
          }
        }
      ]
    },
    {
      "cell_type": "code",
      "metadata": {
        "id": "bhK8gSsTZ6gH"
      },
      "source": [
        "accuracy = 0\n",
        "for i in range(0,226):\n",
        "  y = model.predict(benefits[i])\n",
        "  z = np.sum(y,axis=0)\n",
        "  z = z/50\n",
        "  max=0\n",
        "  for i in range(226):\n",
        "    if z[i]>max:\n",
        "      max = z[i]\n",
        "      max_i = i\n",
        "  if max_i+3==asan[i]:\n",
        "    accuracy = accuracy+1"
      ],
      "execution_count": null,
      "outputs": []
    },
    {
      "cell_type": "code",
      "metadata": {
        "colab": {
          "base_uri": "https://localhost:8080/"
        },
        "id": "LvXhuugMbMvv",
        "outputId": "e852c5d4-a0ab-49c4-c853-00a42dfe9b79"
      },
      "source": [
        "accuracy"
      ],
      "execution_count": null,
      "outputs": [
        {
          "output_type": "execute_result",
          "data": {
            "text/plain": [
              "1"
            ]
          },
          "metadata": {
            "tags": []
          },
          "execution_count": 62
        }
      ]
    },
    {
      "cell_type": "code",
      "metadata": {
        "id": "E-Hzw_sLce2d"
      },
      "source": [
        "a = model.evaluate(benefits, y, verbose=0)"
      ],
      "execution_count": null,
      "outputs": []
    },
    {
      "cell_type": "code",
      "metadata": {
        "colab": {
          "base_uri": "https://localhost:8080/"
        },
        "id": "g_0wPZYEdacz",
        "outputId": "49430f23-8471-4a53-f09b-299402570df9"
      },
      "source": [
        "a"
      ],
      "execution_count": null,
      "outputs": [
        {
          "output_type": "execute_result",
          "data": {
            "text/plain": [
              "[0.7705013155937195, 0.8716813921928406]"
            ]
          },
          "metadata": {
            "tags": []
          },
          "execution_count": 92
        }
      ]
    }
  ]
}